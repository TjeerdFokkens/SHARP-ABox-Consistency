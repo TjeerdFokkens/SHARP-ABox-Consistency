{
 "cells": [
  {
   "cell_type": "code",
   "execution_count": 1,
   "id": "d87654cf",
   "metadata": {},
   "outputs": [],
   "source": [
    "import pyactr as actr\n",
    "\n",
    "aBoxCon = actr.ACTRModel(\n",
    "    automatic_visual_search=False,\n",
    "    motor_prepared=True,\n",
    "    subsymbolic=True,\n",
    "    utility_noise=0.2,\n",
    "    partial_matching=False,\n",
    "    utility_learning=True,\n",
    "    production_compilation=True,\n",
    "    activation_trace=True,\n",
    "    retrieval_threshold=0,\n",
    "    decay=0\n",
    ")\n",
    "\n",
    "aBoxCon.goals = {}\n",
    "aBoxCon.set_goal(\"g\")\n",
    "aBoxCon.set_goal(\"imaginal\")\n",
    "aBoxCon.set_goal(\"imaginal_action\")\n",
    "\n",
    "actr.chunktype(\"goal\", \"state\")\n",
    "actr.chunktype(\"proposition\", \"thing, form, element, mainconnective, relation, subformula1, inferred1, subformula2, inferred2, derived\")\n",
    "actr.chunktype(\"checklist\", \"thing, form, element, mainconnective, relation, subformula1, subformula2, form2, form3, form4, form5, form6, form7, form8\")\n",
    "actr.chunktype(\"storelist\", \"thing, form, element, mainconnective, relation, subformula1, subformula2, derived, inferred1, inferred2, form2, form3, form4, form5, form6, form7, form8, form9, form10, form11, form12, form13, form14, form15\")\n",
    "\n",
    "\n",
    "dm = aBoxCon.decmem\n",
    "goal = aBoxCon.goals[\"g\"]\n",
    "imaginal = aBoxCon.goals[\"imaginal\"]\n",
    "imaginal_action = aBoxCon.goals[\"imaginal_action\"]\n",
    "retrieval = aBoxCon.retrieval\n",
    "production = aBoxCon.productions\n",
    "\n",
    "aBoxCon.goals[\"g\"].add(actr.makechunk(typename=\"goal\", state=\"start\"))\n",
    "aBoxCon.goals[\"imaginal\"].add(actr.makechunk(typename=\"checklist\", thing=\"checklist\"))"
   ]
  },
  {
   "cell_type": "code",
   "execution_count": 2,
   "id": "06038de7",
   "metadata": {},
   "outputs": [],
   "source": [
    "abox = [\n",
    "\"graham:teacher&(supervisor&headofresearch)\",\n",
    "\"(tjeerd,fredrik):supervisedby\",\n",
    "\"tjeerd:student&employee\",\n",
    "\"fredrik:teacher&supervisor\",\n",
    "\"tjeerd:student\"]"
   ]
  },
  {
   "cell_type": "code",
   "execution_count": 3,
   "id": "5f06efbf",
   "metadata": {},
   "outputs": [
    {
     "name": "stdout",
     "output_type": "stream",
     "text": [
      "None\n"
     ]
    }
   ],
   "source": [
    "def findBrackets( aString ):\n",
    "   if '(' in aString:\n",
    "      match = aString.split('(',1)[1]\n",
    "      open = 1\n",
    "      for index in range(len(match)):\n",
    "         if match[index] in '()':\n",
    "            open = (open + 1) if match[index] == '(' else (open - 1)\n",
    "         if not open:\n",
    "            return match[:index]\n",
    "print(findBrackets(\"teacher\"))"
   ]
  },
  {
   "cell_type": "code",
   "execution_count": 4,
   "id": "c496ffe0",
   "metadata": {},
   "outputs": [],
   "source": [
    "def makeNiceList ( aList ):\n",
    "    newList = []\n",
    "    for i in aList:\n",
    "        if i!=\"\":\n",
    "            if i[0]==\"&\":\n",
    "                j = i[1:]\n",
    "                newList.append(j)\n",
    "            elif i[-1]==\"&\":\n",
    "                j = i[:-1]\n",
    "                newList.append(j)\n",
    "            else:\n",
    "                print(\"Formula has wrong syntax.\")\n",
    "        else:\n",
    "            continue\n",
    "    return newList"
   ]
  },
  {
   "cell_type": "code",
   "execution_count": 5,
   "id": "fe0fc208",
   "metadata": {},
   "outputs": [],
   "source": [
    "def unNest1( aString ):\n",
    "    if \"(\" in aString:\n",
    "        subconcept1 = findBrackets(aString)\n",
    "        subconcept2 = aString.split(\"({})\".format(subconcept1))\n",
    "        subConceptList = makeNiceList(subconcept2)\n",
    "        subConceptList.append(subconcept1)\n",
    "    else:\n",
    "        subConceptList = aString.split(\"&\")\n",
    "    return subConceptList"
   ]
  },
  {
   "cell_type": "code",
   "execution_count": 6,
   "id": "3acd825e",
   "metadata": {},
   "outputs": [],
   "source": [
    "def findAllSubconcepts ( formula ):\n",
    "    divide = formula.split(\":\")\n",
    "    element = divide[0]\n",
    "    concept = divide[1]\n",
    "    subConceptListBegin = {concept}\n",
    "    subConceptListEnd = {}\n",
    "    while subConceptListBegin != subConceptListEnd:\n",
    "        subConceptListEnd = subConceptListBegin\n",
    "        for i in subConceptListBegin:\n",
    "            subConceptListBegin = subConceptListBegin | set(unNest1(i))\n",
    "    subConceptListEnd = list(subConceptListEnd)\n",
    "    return element, subConceptListEnd"
   ]
  },
  {
   "cell_type": "code",
   "execution_count": 16,
   "id": "b2ea3019",
   "metadata": {},
   "outputs": [],
   "source": [
    "def loadFormulaIntoActR (formula, model ):\n",
    "    decmem = model.decmem\n",
    "    element, subconcepts = findAllSubconcepts ( formula )\n",
    "    for i in subconcepts:\n",
    "        subs = unNest1(i)\n",
    "        \n",
    "        if f\"{element}:{i}\" == formula:\n",
    "            word = \"yes\"\n",
    "        else:\n",
    "            word = \"no\"\n",
    "        \n",
    "        if len(subs) == 1:\n",
    "            if i[0]==\"n\":\n",
    "                mc = \"negation\"\n",
    "                decmem.add(actr.makechunk(typename=\"proposition\",\n",
    "                                  thing=\"proposition\",\n",
    "                                  form=f\"{element}:{i}\",\n",
    "                                  element=element,\n",
    "                                  mainconnective=mc,\n",
    "                                  subformula1=subs[0][1:],\n",
    "                                  derived=word))\n",
    "            else:\n",
    "                mc = \"concept\"\n",
    "                decmem.add(actr.makechunk(typename=\"proposition\",\n",
    "                                  thing=\"proposition\",\n",
    "                                  form=f\"{element}:{i}\",\n",
    "                                  element=element,\n",
    "                                  mainconnective=mc,\n",
    "                                  subformula1=subs[0],\n",
    "                                  derived=word))\n",
    "        else:\n",
    "            mc = \"conjunction\"\n",
    "            decmem.add(actr.makechunk(typename=\"proposition\",\n",
    "                                  thing=\"proposition\",\n",
    "                                  form=f\"{element}:{i}\",\n",
    "                                  element=element,\n",
    "                                  mainconnective=mc,\n",
    "                                  subformula1=subs[0],\n",
    "                                  subformula2=subs[1],\n",
    "                                  derived=word,\n",
    "                                  inferred1=\"no\",\n",
    "                                  inferred2=\"no\"))\n"
   ]
  },
  {
   "cell_type": "code",
   "execution_count": 17,
   "id": "111331b2",
   "metadata": {},
   "outputs": [
    {
     "name": "stdout",
     "output_type": "stream",
     "text": [
      "graham:supervisor\n",
      "graham:teacher&(supervisor&headofresearch)\n",
      "graham:supervisor&headofresearch\n",
      "graham:teacher&(supervisor&headofresearch)\n",
      "graham:headofresearch\n",
      "graham:teacher&(supervisor&headofresearch)\n",
      "graham:teacher&(supervisor&headofresearch)\n",
      "graham:teacher&(supervisor&headofresearch)\n",
      "graham:teacher\n",
      "graham:teacher&(supervisor&headofresearch)\n",
      "(tjeerd,fredrik):supervisedby\n",
      "(tjeerd,fredrik):supervisedby\n",
      "tjeerd:student\n",
      "tjeerd:student&employee\n",
      "tjeerd:employee\n",
      "tjeerd:student&employee\n",
      "tjeerd:student&employee\n",
      "tjeerd:student&employee\n",
      "fredrik:teacher&supervisor\n",
      "fredrik:teacher&supervisor\n",
      "fredrik:supervisor\n",
      "fredrik:teacher&supervisor\n",
      "fredrik:teacher\n",
      "fredrik:teacher&supervisor\n",
      "tjeerd:student\n",
      "tjeerd:student\n"
     ]
    },
    {
     "data": {
      "text/plain": [
       "{proposition(derived= no, element= graham, form= graham:supervisor, inferred1= , inferred2= , mainconnective= concept, relation= , subformula1= supervisor, subformula2= , thing= proposition): array([0., 0., 0., 0., 0.]), proposition(derived= no, element= graham, form= graham:supervisor&headofresearch, inferred1= no, inferred2= no, mainconnective= conjunction, relation= , subformula1= supervisor, subformula2= headofresearch, thing= proposition): array([0., 0., 0., 0., 0.]), proposition(derived= no, element= graham, form= graham:headofresearch, inferred1= , inferred2= , mainconnective= concept, relation= , subformula1= headofresearch, subformula2= , thing= proposition): array([0., 0., 0., 0., 0.]), proposition(derived= no, element= graham, form= graham:teacher&(supervisor&headofresearch), inferred1= no, inferred2= no, mainconnective= conjunction, relation= , subformula1= teacher, subformula2= supervisor&headofresearch, thing= proposition): array([0., 0.]), proposition(derived= no, element= graham, form= graham:teacher, inferred1= , inferred2= , mainconnective= concept, relation= , subformula1= teacher, subformula2= , thing= proposition): array([0., 0., 0., 0., 0.]), proposition(derived= no, element= (tjeerd,fredrik), form= (tjeerd,fredrik):supervisedby, inferred1= , inferred2= , mainconnective= concept, relation= , subformula1= supervisedby, subformula2= , thing= proposition): array([0., 0.]), proposition(derived= no, element= tjeerd, form= tjeerd:student, inferred1= , inferred2= , mainconnective= concept, relation= , subformula1= student, subformula2= , thing= proposition): array([0., 0., 0., 0., 0., 0., 0.]), proposition(derived= no, element= tjeerd, form= tjeerd:employee, inferred1= , inferred2= , mainconnective= concept, relation= , subformula1= employee, subformula2= , thing= proposition): array([0., 0., 0., 0., 0.]), proposition(derived= no, element= tjeerd, form= tjeerd:student&employee, inferred1= no, inferred2= no, mainconnective= conjunction, relation= , subformula1= student, subformula2= employee, thing= proposition): array([0., 0.]), proposition(derived= no, element= fredrik, form= fredrik:teacher&supervisor, inferred1= no, inferred2= no, mainconnective= conjunction, relation= , subformula1= teacher, subformula2= supervisor, thing= proposition): array([0., 0.]), proposition(derived= no, element= fredrik, form= fredrik:supervisor, inferred1= , inferred2= , mainconnective= concept, relation= , subformula1= supervisor, subformula2= , thing= proposition): array([0., 0., 0., 0., 0.]), proposition(derived= no, element= fredrik, form= fredrik:teacher, inferred1= , inferred2= , mainconnective= concept, relation= , subformula1= teacher, subformula2= , thing= proposition): array([0., 0., 0., 0., 0.]), proposition(derived= no, element= graham, form= graham:teacher&(supervisor&headofresearch), inferred1= no, inferred2= yes, mainconnective= conjunction, relation= , subformula1= teacher, subformula2= supervisor&headofresearch, thing= proposition): array([0., 0.]), proposition(derived= yes, element= (tjeerd,fredrik), form= (tjeerd,fredrik):supervisedby, inferred1= , inferred2= , mainconnective= concept, relation= , subformula1= supervisedby, subformula2= , thing= proposition): array([0., 0., 0.]), proposition(derived= no, element= tjeerd, form= tjeerd:student&employee, inferred1= no, inferred2= yes, mainconnective= conjunction, relation= , subformula1= student, subformula2= employee, thing= proposition): array([0., 0.]), proposition(derived= no, element= fredrik, form= fredrik:teacher&supervisor, inferred1= no, inferred2= yes, mainconnective= conjunction, relation= , subformula1= teacher, subformula2= supervisor, thing= proposition): array([0., 0.]), proposition(derived= yes, element= tjeerd, form= tjeerd:student, inferred1= , inferred2= , mainconnective= concept, relation= , subformula1= student, subformula2= , thing= proposition): array([0., 0., 0.]), proposition(derived= yes, element= graham, form= graham:teacher&(supervisor&headofresearch), inferred1= no, inferred2= no, mainconnective= conjunction, relation= , subformula1= teacher, subformula2= supervisor&headofresearch, thing= proposition): array([0.]), proposition(derived= yes, element= tjeerd, form= tjeerd:student&employee, inferred1= no, inferred2= no, mainconnective= conjunction, relation= , subformula1= student, subformula2= employee, thing= proposition): array([0.]), proposition(derived= yes, element= fredrik, form= fredrik:teacher&supervisor, inferred1= no, inferred2= no, mainconnective= conjunction, relation= , subformula1= teacher, subformula2= supervisor, thing= proposition): array([0.])}"
      ]
     },
     "execution_count": 17,
     "metadata": {},
     "output_type": "execute_result"
    }
   ],
   "source": [
    "def loadABox(abox, model):\n",
    "    for i in abox:\n",
    "        loadFormulaIntoActR (i, model)\n",
    "\n",
    "loadABox(abox,aBoxCon)\n",
    "dm"
   ]
  }
 ],
 "metadata": {
  "kernelspec": {
   "display_name": "Python 3",
   "language": "python",
   "name": "python3"
  },
  "language_info": {
   "codemirror_mode": {
    "name": "ipython",
    "version": 3
   },
   "file_extension": ".py",
   "mimetype": "text/x-python",
   "name": "python",
   "nbconvert_exporter": "python",
   "pygments_lexer": "ipython3",
   "version": "3.8.8"
  }
 },
 "nbformat": 4,
 "nbformat_minor": 5
}
